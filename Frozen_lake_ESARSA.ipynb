{
  "nbformat": 4,
  "nbformat_minor": 0,
  "metadata": {
    "colab": {
      "name": "Frozen_lake_ESARSA.ipynb",
      "provenance": [],
      "collapsed_sections": []
    },
    "kernelspec": {
      "name": "python3",
      "display_name": "Python 3"
    },
    "language_info": {
      "name": "python"
    }
  },
  "cells": [
    {
      "cell_type": "code",
      "execution_count": 309,
      "metadata": {
        "id": "K0dTiYEzDIaw"
      },
      "outputs": [],
      "source": [
        "import gym\n",
        "import sys\n",
        "import numpy as np\n",
        "import bottleneck as bn\n",
        "import matplotlib.pyplot as plt\n",
        "import time\n",
        "from tqdm import tqdm\n",
        "from tqdm import trange\n",
        "from gym import Env, spaces, utils\n"
      ]
    },
    {
      "cell_type": "code",
      "source": [
        "env = gym.make('FrozenLake-v0')"
      ],
      "metadata": {
        "id": "wFTvoGi1UO_p"
      },
      "execution_count": 310,
      "outputs": []
    },
    {
      "cell_type": "code",
      "source": [
        "def expected_Q(Q, epsilon, n_a):\n",
        "\n",
        "    a = np.argmax(Q)\n",
        "    E_Q = np.sum(np.multiply((epsilon/n_a),Q)) + (1 - epsilon)*Q[a]\n",
        "\n",
        "    return E_Q"
      ],
      "metadata": {
        "id": "J1NystQCym5w"
      },
      "execution_count": 311,
      "outputs": []
    },
    {
      "cell_type": "code",
      "source": [
        "# initialize the agent’s Q-table to zeros\n",
        "def init_q(s, a):\n",
        "    \"\"\"\n",
        "    s: number of states\n",
        "    a: number of actions\n",
        "    \"\"\"\n",
        "    return np.zeros((s, a))"
      ],
      "metadata": {
        "id": "36bPoHg6xjG_"
      },
      "execution_count": 312,
      "outputs": []
    },
    {
      "cell_type": "markdown",
      "source": [
        "\n"
      ],
      "metadata": {
        "id": "mdlsZLj2DfDM"
      }
    },
    {
      "cell_type": "code",
      "source": [
        "def e_greedy(no_a, e, q):\n",
        "    \"\"\"\n",
        "    This function performs the epsilon greedy action selection\n",
        "    no_a: No. of actions available\n",
        "    e: Exploration parameter\n",
        "    q: Action value function for the current state\n",
        "    :return: epsilon greedy action\n",
        "    \"\"\"\n",
        "    k = np.random.rand()\n",
        "    if k < e:\n",
        "        a = np.random.randint(0, no_a)\n",
        "    else:\n",
        "        a = np.argmax(q)\n",
        "    return a"
      ],
      "metadata": {
        "id": "2qsRjT3ADnD_"
      },
      "execution_count": 313,
      "outputs": []
    },
    {
      "cell_type": "code",
      "source": [
        ""
      ],
      "metadata": {
        "id": "3L19NSL6DNh7"
      },
      "execution_count": 313,
      "outputs": []
    },
    {
      "cell_type": "code",
      "source": [
        "def ESARSA(alpha, gamma, epsilon,n_episodes, improved=0):\n",
        "    \"\"\"\n",
        "    alpha: learning rate\n",
        "    gamma: exploration parameter\n",
        "    n_episodes: number of episodes\n",
        "    improved: reward function changed and epsilon policy changed\n",
        "    \"\"\"\n",
        "    # initialize Q table\n",
        "    env = gym.make('FrozenLake-v0')\n",
        "    n_states, n_actions = env.observation_space.n, env.action_space.n\n",
        "    Q = init_q(n_states, n_actions)\n",
        "    t = trange(n_episodes)\n",
        "    reward_array = np.zeros(n_episodes)\n",
        "    for i in t:\n",
        "        # initial state\n",
        "        s = env.reset()\n",
        "        # initial action\n",
        "        a = e_greedy(n_actions, epsilon, Q[s, :])\n",
        "        done = False\n",
        "        total_reward=0\n",
        "    \n",
        "        while not done:\n",
        "            next_s, reward, done, info = env.step(a)\n",
        "\n",
        "            next_a = e_greedy(n_actions, epsilon, Q[next_s, :])\n",
        "\n",
        "            if improved:\n",
        "              if next_s in (5,7,11,12):\n",
        "                reward=-1\n",
        "              elif next_s in (1,2,3,4,6,8,9,10,13,14):\n",
        "                reward= 0.5\n",
        "\n",
        "            total_reward += reward\n",
        "            if done:\n",
        "                Q[s, a] += alpha*(reward - Q[s, a])\n",
        "            else:\n",
        "                Q[s, a] += alpha*(reward + gamma*expected_Q(Q[next_s, :], epsilon, n_actions) - Q[s, a])\n",
        "\n",
        "            if done:\n",
        "                t.set_description('Episode {} Reward {}'.format(i + 1, reward))\n",
        "                t.refresh()\n",
        "                reward_array[i] = total_reward\n",
        "                break\n",
        "            s, a = next_s, next_a\n",
        "        if improved:\n",
        "            epsilon = epsilon - epsilon_dec\n",
        "    env.close()\n",
        "    return Q, reward_array"
      ],
      "metadata": {
        "id": "UIZFiLqMDJIC"
      },
      "execution_count": 401,
      "outputs": []
    },
    {
      "cell_type": "code",
      "source": [
        "# experiment settings\n",
        "alpha = 0.5 # learning rate\n",
        "gamma = 0.9 # discount factor\n",
        "epsilon=0.5 # exploration parameter\n",
        "n_episodes = 1000 # number of training episodes\n",
        "epsilon_dec = epsilon/(n_episodes//4)"
      ],
      "metadata": {
        "id": "HiNjLjhzxrRW"
      },
      "execution_count": 415,
      "outputs": []
    },
    {
      "cell_type": "code",
      "source": [
        "epsilon_dec"
      ],
      "metadata": {
        "colab": {
          "base_uri": "https://localhost:8080/"
        },
        "id": "bWefPp7mmKnm",
        "outputId": "4f5975ee-bfc3-47a8-8f9c-815fa76aea54"
      },
      "execution_count": 416,
      "outputs": [
        {
          "output_type": "execute_result",
          "data": {
            "text/plain": [
              "0.002"
            ]
          },
          "metadata": {},
          "execution_count": 416
        }
      ]
    },
    {
      "cell_type": "code",
      "source": [
        "# training\n",
        "Q1, reward_array1 = ESARSA(alpha, gamma, epsilon, n_episodes)\n",
        "Q2, reward_array2 = ESARSA(alpha, gamma, epsilon, n_episodes, improved=1)"
      ],
      "metadata": {
        "colab": {
          "base_uri": "https://localhost:8080/"
        },
        "id": "nV48SsopxucW",
        "outputId": "b6363fb3-361a-4a5e-8973-1a6b9ca39731"
      },
      "execution_count": 418,
      "outputs": [
        {
          "output_type": "stream",
          "name": "stderr",
          "text": [
            "Episode 1000 Reward 0.0: 100%|██████████| 1000/1000 [00:04<00:00, 248.36it/s]\n",
            "Episode 798 Reward 0.5:  79%|███████▉  | 789/1000 [00:08<00:02, 103.61it/s]/usr/local/lib/python3.7/dist-packages/ipykernel_launcher.py:4: RuntimeWarning: overflow encountered in double_scalars\n",
            "  after removing the cwd from sys.path.\n",
            "/usr/local/lib/python3.7/dist-packages/ipykernel_launcher.py:37: RuntimeWarning: invalid value encountered in double_scalars\n",
            "/usr/local/lib/python3.7/dist-packages/ipykernel_launcher.py:4: RuntimeWarning: invalid value encountered in double_scalars\n",
            "  after removing the cwd from sys.path.\n",
            "Episode 1000 Reward 1.0: 100%|██████████| 1000/1000 [00:10<00:00, 99.92it/s] \n"
          ]
        }
      ]
    },
    {
      "cell_type": "code",
      "source": [
        "Q1"
      ],
      "metadata": {
        "colab": {
          "base_uri": "https://localhost:8080/"
        },
        "id": "cS_1dW4Tzu3D",
        "outputId": "14d1a928-0f9a-4c76-921b-7a307ab97bea"
      },
      "execution_count": 419,
      "outputs": [
        {
          "output_type": "execute_result",
          "data": {
            "text/plain": [
              "array([[9.70439808e-03, 9.53832613e-03, 9.24334885e-03, 9.61339957e-03],\n",
              "       [7.63265862e-03, 6.86697859e-03, 9.96940177e-03, 1.36171333e-02],\n",
              "       [1.58481841e-02, 1.40729390e-02, 1.71711361e-02, 1.56529121e-02],\n",
              "       [7.70962938e-03, 7.17324035e-03, 2.84100213e-04, 1.26590840e-02],\n",
              "       [9.21964138e-03, 2.59694321e-02, 9.34297426e-04, 3.45053868e-03],\n",
              "       [0.00000000e+00, 0.00000000e+00, 0.00000000e+00, 0.00000000e+00],\n",
              "       [1.45034112e-02, 1.45561707e-02, 6.90909446e-02, 3.74385713e-03],\n",
              "       [0.00000000e+00, 0.00000000e+00, 0.00000000e+00, 0.00000000e+00],\n",
              "       [3.61816188e-03, 3.12076906e-02, 4.44845381e-03, 1.26994178e-02],\n",
              "       [7.87837211e-02, 1.18140825e-01, 4.62380259e-02, 1.00133432e-01],\n",
              "       [1.55946262e-01, 2.52527878e-01, 1.63162762e-01, 9.04416212e-02],\n",
              "       [0.00000000e+00, 0.00000000e+00, 0.00000000e+00, 0.00000000e+00],\n",
              "       [0.00000000e+00, 0.00000000e+00, 0.00000000e+00, 0.00000000e+00],\n",
              "       [4.59764560e-02, 9.04717541e-02, 9.45890812e-02, 5.83549561e-02],\n",
              "       [2.24410183e-01, 8.41526062e-01, 1.88784248e-01, 5.84208905e-01],\n",
              "       [0.00000000e+00, 0.00000000e+00, 0.00000000e+00, 0.00000000e+00]])"
            ]
          },
          "metadata": {},
          "execution_count": 419
        }
      ]
    },
    {
      "cell_type": "code",
      "source": [
        "Q2"
      ],
      "metadata": {
        "colab": {
          "base_uri": "https://localhost:8080/"
        },
        "id": "JOc0QqDqWtKq",
        "outputId": "1578ed0f-5496-4686-862b-87547895013d"
      },
      "execution_count": 420,
      "outputs": [
        {
          "output_type": "execute_result",
          "data": {
            "text/plain": [
              "array([[ 2.33731267,  2.41999703,         nan,  2.4597962 ],\n",
              "       [ 1.62496991,  1.4484637 ,  1.56166349,         nan],\n",
              "       [ 1.11296407,  2.22139128,  2.16447365,         nan],\n",
              "       [ 0.88297903,  1.07122868,  0.94522403,         nan],\n",
              "       [        nan,  0.05671388,  1.30190949,  0.45495664],\n",
              "       [ 0.        ,  0.        ,  0.        ,  0.        ],\n",
              "       [        nan, -0.86421357, -0.90070712, -0.86189315],\n",
              "       [ 0.        ,  0.        ,  0.        ,  0.        ],\n",
              "       [ 1.92613363,  1.74061031,  0.6603521 ,         nan],\n",
              "       [ 1.48710756,         nan,  1.511094  ,  0.31967537],\n",
              "       [        nan, -0.32079317,  0.13213197,  0.16425167],\n",
              "       [ 0.        ,  0.        ,  0.        ,  0.        ],\n",
              "       [ 0.        ,  0.        ,  0.        ,  0.        ],\n",
              "       [ 1.65717753,  1.90756333,         nan,  0.65189194],\n",
              "       [ 0.        ,  1.09887276,  1.08210351,         nan],\n",
              "       [ 0.        ,  0.        ,  0.        ,  0.        ]])"
            ]
          },
          "metadata": {},
          "execution_count": 420
        }
      ]
    },
    {
      "cell_type": "code",
      "source": [
        "# averaged reward per episode\n",
        "avg_reward = round(np.mean(reward_array1), 4)\n",
        "print('Averaged reward per episode for normal {}'.format(avg_reward))"
      ],
      "metadata": {
        "colab": {
          "base_uri": "https://localhost:8080/"
        },
        "id": "VZWQnFFtzzSm",
        "outputId": "d7a69d06-8975-4bab-8ee3-88e6bcc5c7dd"
      },
      "execution_count": 421,
      "outputs": [
        {
          "output_type": "stream",
          "name": "stdout",
          "text": [
            "Averaged reward per episode for normal 0.027\n"
          ]
        }
      ]
    },
    {
      "cell_type": "code",
      "source": [
        "avg_reward = round(np.mean(reward_array2), 4)\n",
        "print('Averaged reward per episode {}'.format(avg_reward))"
      ],
      "metadata": {
        "colab": {
          "base_uri": "https://localhost:8080/"
        },
        "id": "NPqzuKXsWB5Q",
        "outputId": "ac485f24-43f3-4eb5-b857-331b6bd1e1c6"
      },
      "execution_count": 422,
      "outputs": [
        {
          "output_type": "stream",
          "name": "stdout",
          "text": [
            "Averaged reward per episode 22.8555\n"
          ]
        }
      ]
    },
    {
      "cell_type": "code",
      "source": [
        ""
      ],
      "metadata": {
        "id": "szMdfX5CVIx1"
      },
      "execution_count": 422,
      "outputs": []
    },
    {
      "cell_type": "code",
      "source": [
        "def rollavg_bottlneck(a,n):\n",
        "    return bn.move_mean(a, window=n,min_count = None)"
      ],
      "metadata": {
        "id": "FduPSgu0VIjz"
      },
      "execution_count": 423,
      "outputs": []
    },
    {
      "cell_type": "code",
      "source": [
        "rewards_ma1=rollavg_bottlneck(reward_array1, 100)\n",
        "rewards_ma2=rollavg_bottlneck(reward_array2, 100)"
      ],
      "metadata": {
        "id": "T9JCI0mcU64z"
      },
      "execution_count": 424,
      "outputs": []
    },
    {
      "cell_type": "code",
      "source": [
        "fig, ax = plt.subplots()\n",
        "ax.set_xlabel('Episodes')\n",
        "ax.set_ylabel('Rewards')\n",
        "ax.plot(rewards_ma1, label='Normal')\n",
        "ax.plot(rewards_ma2, label='Improved')\n",
        "plt.legend()\n",
        "plt.show()"
      ],
      "metadata": {
        "colab": {
          "base_uri": "https://localhost:8080/",
          "height": 279
        },
        "id": "inzWFV_y0kjo",
        "outputId": "8c34a365-b7d8-4c60-c954-d304e02807fa"
      },
      "execution_count": 425,
      "outputs": [
        {
          "output_type": "display_data",
          "data": {
            "image/png": "[encoded data removed]",
            "text/plain": [
              "<Figure size 432x288 with 1 Axes>"
            ]
          },
          "metadata": {
            "needs_background": "light"
          }
        }
      ]
    },
    {
      "cell_type": "code",
      "source": [
        "def eva(Q, n_episodes):\n",
        "    \"\"\"\n",
        "    Q: trained Q table\n",
        "    n_episodes: number of episodes\n",
        "    \"\"\"\n",
        "    t = trange(n_episodes)\n",
        "    reward_array = np.zeros(n_episodes)\n",
        "    for i in t:\n",
        "        # initial state\n",
        "        s = env.reset()\n",
        "        # initial action\n",
        "        a = np.argmax(Q[s])\n",
        "        done = False\n",
        "        while not done:\n",
        "            s_, reward, done, _ = env.step(a)\n",
        "            # pick an action according the state and trained Q table\n",
        "            a_ = np.argmax(Q[s_])\n",
        "            if done:\n",
        "                t.set_description('Episode {} Reward {}'.format(i + 1, reward))\n",
        "                t.refresh()\n",
        "                reward_array[i] = reward\n",
        "                break\n",
        "            s, a = s_, a_\n",
        "    env.close()\n",
        "    return reward_array"
      ],
      "metadata": {
        "id": "oSB-H5_Jz2tx"
      },
      "execution_count": 426,
      "outputs": []
    },
    {
      "cell_type": "code",
      "source": [
        "eva(Q2,1000)"
      ],
      "metadata": {
        "colab": {
          "base_uri": "https://localhost:8080/"
        },
        "id": "LrFNYeVUWeGT",
        "outputId": "680d9a4e-f5f8-41f5-d6be-5617e68576bf"
      },
      "execution_count": 427,
      "outputs": [
        {
          "output_type": "stream",
          "name": "stderr",
          "text": [
            "Episode 1000 Reward 0.0: 100%|██████████| 1000/1000 [00:05<00:00, 187.41it/s]\n"
          ]
        },
        {
          "output_type": "execute_result",
          "data": {
            "text/plain": [
              "array([0., 0., 0., 1., 1., 0., 0., 0., 0., 0., 0., 0., 1., 0., 1., 0., 1.,\n",
              "       0., 0., 1., 0., 0., 0., 1., 0., 0., 1., 0., 1., 1., 0., 1., 1., 0.,\n",
              "       1., 0., 1., 1., 1., 0., 0., 0., 1., 0., 0., 0., 1., 1., 1., 1., 0.,\n",
              "       0., 1., 0., 0., 0., 1., 0., 0., 1., 1., 1., 0., 1., 0., 1., 0., 1.,\n",
              "       0., 1., 0., 1., 1., 1., 0., 0., 0., 0., 1., 0., 0., 0., 0., 1., 1.,\n",
              "       0., 1., 1., 1., 0., 1., 1., 1., 0., 0., 1., 0., 1., 0., 0., 0., 1.,\n",
              "       0., 1., 0., 1., 1., 0., 0., 0., 0., 0., 0., 0., 0., 0., 0., 0., 1.,\n",
              "       0., 0., 0., 0., 0., 1., 1., 1., 0., 1., 1., 0., 0., 0., 0., 0., 0.,\n",
              "       1., 0., 0., 0., 1., 0., 0., 0., 1., 1., 0., 0., 0., 0., 1., 0., 0.,\n",
              "       0., 0., 0., 0., 1., 0., 0., 0., 0., 0., 0., 0., 0., 1., 0., 0., 1.,\n",
              "       1., 0., 1., 0., 0., 0., 0., 0., 1., 0., 0., 0., 1., 0., 0., 1., 1.,\n",
              "       0., 0., 0., 1., 0., 1., 1., 0., 1., 1., 0., 1., 0., 0., 1., 1., 0.,\n",
              "       1., 1., 1., 0., 0., 1., 1., 0., 1., 1., 0., 1., 0., 0., 0., 1., 1.,\n",
              "       1., 1., 0., 0., 0., 0., 1., 0., 0., 1., 1., 1., 0., 1., 0., 1., 1.,\n",
              "       0., 1., 0., 0., 0., 0., 1., 1., 1., 1., 1., 0., 1., 1., 0., 1., 1.,\n",
              "       1., 0., 0., 0., 0., 0., 1., 1., 1., 0., 0., 1., 1., 0., 0., 1., 0.,\n",
              "       0., 0., 0., 0., 1., 1., 1., 1., 0., 1., 0., 0., 0., 0., 1., 1., 1.,\n",
              "       1., 1., 0., 1., 0., 0., 1., 1., 0., 0., 1., 0., 1., 1., 1., 1., 0.,\n",
              "       0., 0., 0., 0., 0., 0., 0., 1., 1., 0., 0., 0., 1., 0., 0., 0., 0.,\n",
              "       1., 0., 1., 1., 1., 0., 1., 0., 0., 0., 1., 0., 0., 1., 0., 1., 0.,\n",
              "       1., 0., 0., 0., 0., 0., 0., 0., 0., 0., 0., 1., 0., 0., 0., 1., 0.,\n",
              "       0., 0., 0., 1., 0., 1., 0., 0., 1., 0., 0., 1., 0., 0., 0., 0., 1.,\n",
              "       0., 0., 0., 1., 1., 0., 0., 1., 1., 1., 0., 1., 1., 1., 0., 0., 1.,\n",
              "       1., 1., 1., 0., 1., 1., 1., 1., 1., 0., 0., 0., 1., 1., 1., 1., 0.,\n",
              "       1., 1., 1., 0., 0., 0., 1., 0., 1., 1., 0., 0., 1., 1., 0., 1., 1.,\n",
              "       0., 1., 1., 1., 0., 0., 1., 0., 1., 1., 1., 1., 0., 1., 0., 0., 0.,\n",
              "       0., 1., 0., 0., 0., 0., 0., 0., 0., 1., 0., 1., 0., 0., 0., 1., 0.,\n",
              "       0., 1., 1., 1., 1., 0., 1., 1., 0., 0., 1., 0., 1., 0., 1., 0., 0.,\n",
              "       1., 0., 0., 0., 0., 0., 0., 0., 0., 0., 0., 0., 0., 0., 0., 1., 0.,\n",
              "       0., 0., 1., 1., 0., 1., 1., 0., 1., 1., 1., 0., 1., 0., 0., 0., 1.,\n",
              "       0., 1., 1., 0., 0., 0., 1., 1., 0., 1., 0., 1., 1., 1., 1., 1., 0.,\n",
              "       1., 1., 0., 0., 1., 0., 1., 0., 1., 0., 0., 1., 0., 1., 1., 0., 0.,\n",
              "       1., 0., 0., 0., 0., 0., 0., 1., 0., 0., 1., 1., 0., 1., 1., 0., 0.,\n",
              "       1., 1., 0., 1., 1., 1., 1., 0., 1., 0., 0., 0., 0., 1., 0., 1., 1.,\n",
              "       0., 0., 0., 1., 0., 0., 0., 1., 0., 0., 1., 0., 1., 1., 0., 0., 1.,\n",
              "       0., 0., 0., 1., 1., 0., 1., 1., 1., 1., 0., 0., 1., 0., 1., 1., 0.,\n",
              "       1., 0., 0., 0., 1., 0., 1., 0., 0., 1., 0., 1., 0., 0., 1., 0., 1.,\n",
              "       0., 0., 0., 0., 1., 0., 1., 0., 1., 1., 0., 0., 0., 1., 0., 0., 1.,\n",
              "       1., 1., 0., 1., 1., 0., 1., 0., 1., 0., 0., 1., 1., 1., 1., 0., 0.,\n",
              "       0., 0., 0., 1., 1., 1., 1., 0., 0., 0., 1., 1., 1., 0., 0., 0., 0.,\n",
              "       0., 1., 0., 1., 1., 1., 0., 1., 0., 0., 1., 0., 1., 1., 0., 0., 0.,\n",
              "       0., 0., 1., 0., 1., 0., 0., 1., 0., 0., 1., 1., 1., 1., 1., 1., 0.,\n",
              "       0., 1., 0., 0., 0., 1., 0., 1., 0., 0., 1., 0., 1., 0., 0., 1., 0.,\n",
              "       1., 0., 0., 1., 0., 1., 0., 1., 0., 0., 0., 1., 1., 1., 0., 0., 0.,\n",
              "       0., 0., 0., 0., 0., 0., 1., 0., 0., 0., 0., 0., 0., 0., 0., 0., 0.,\n",
              "       0., 0., 0., 1., 1., 0., 1., 0., 1., 1., 0., 1., 0., 1., 0., 1., 1.,\n",
              "       1., 1., 0., 1., 0., 0., 0., 1., 0., 0., 0., 1., 1., 1., 0., 0., 1.,\n",
              "       1., 1., 1., 0., 1., 0., 0., 0., 0., 0., 0., 0., 1., 0., 0., 0., 1.,\n",
              "       1., 1., 1., 0., 0., 0., 0., 0., 0., 0., 1., 0., 1., 0., 0., 0., 0.,\n",
              "       0., 1., 0., 1., 1., 0., 1., 0., 1., 1., 0., 0., 1., 1., 1., 1., 0.,\n",
              "       1., 1., 0., 0., 0., 0., 1., 1., 1., 1., 0., 1., 0., 0., 0., 0., 0.,\n",
              "       0., 0., 0., 1., 1., 0., 0., 0., 1., 0., 0., 1., 0., 0., 1., 0., 1.,\n",
              "       1., 0., 1., 0., 1., 1., 0., 0., 0., 0., 1., 0., 0., 0., 1., 0., 0.,\n",
              "       0., 0., 0., 0., 0., 1., 0., 1., 1., 0., 0., 0., 0., 0., 1., 0., 0.,\n",
              "       1., 0., 1., 0., 0., 0., 0., 1., 1., 1., 1., 1., 0., 0., 0., 0., 0.,\n",
              "       0., 1., 0., 1., 1., 0., 0., 1., 1., 0., 1., 0., 1., 1., 0., 0., 0.,\n",
              "       1., 0., 0., 0., 0., 0., 0., 0., 0., 1., 0., 1., 1., 1., 1., 1., 0.,\n",
              "       0., 1., 1., 0., 0., 0., 1., 0., 0., 1., 1., 1., 1., 1., 0., 0., 0.,\n",
              "       1., 1., 0., 1., 1., 0., 0., 0., 0., 0., 0., 1., 1., 0.])"
            ]
          },
          "metadata": {},
          "execution_count": 427
        }
      ]
    },
    {
      "cell_type": "code",
      "source": [
        ""
      ],
      "metadata": {
        "id": "OKZtP-Z3UTS_"
      },
      "execution_count": 413,
      "outputs": []
    },
    {
      "cell_type": "code",
      "source": [
        "done = False\n",
        "s = env.reset()\n",
        "env.render()\n",
        "i=0\n",
        "while not done:\n",
        "   # pick an action\n",
        "    a = np.argmax(Q1[s])\n",
        "    # get feedback from the environment\n",
        "    s_, _, done, _ = env.step(a)\n",
        "    # show the environment\n",
        "    env.render()\n",
        "    s = s_\n",
        "    i+=1\n",
        "\n",
        "if s==15:\n",
        "  print(\"Number of steps after which problem was solved:\", i)\n",
        "else:\n",
        "  print(\"Problem not solved\")"
      ],
      "metadata": {
        "colab": {
          "base_uri": "https://localhost:8080/"
        },
        "id": "zQQFWfVAjq0p",
        "outputId": "10e0eb76-2a4d-4ac9-d910-2a9a1fba2521"
      },
      "execution_count": 433,
      "outputs": [
        {
          "output_type": "stream",
          "name": "stdout",
          "text": [
            "\n",
            "\u001b[41mS\u001b[0mFFF\n",
            "FHFH\n",
            "FFFH\n",
            "HFFG\n",
            "  (Left)\n",
            "\u001b[41mS\u001b[0mFFF\n",
            "FHFH\n",
            "FFFH\n",
            "HFFG\n",
            "  (Left)\n",
            "\u001b[41mS\u001b[0mFFF\n",
            "FHFH\n",
            "FFFH\n",
            "HFFG\n",
            "  (Left)\n",
            "\u001b[41mS\u001b[0mFFF\n",
            "FHFH\n",
            "FFFH\n",
            "HFFG\n",
            "  (Left)\n",
            "\u001b[41mS\u001b[0mFFF\n",
            "FHFH\n",
            "FFFH\n",
            "HFFG\n",
            "  (Left)\n",
            "\u001b[41mS\u001b[0mFFF\n",
            "FHFH\n",
            "FFFH\n",
            "HFFG\n",
            "  (Left)\n",
            "SFFF\n",
            "\u001b[41mF\u001b[0mHFH\n",
            "FFFH\n",
            "HFFG\n",
            "  (Down)\n",
            "SFFF\n",
            "FHFH\n",
            "\u001b[41mF\u001b[0mFFH\n",
            "HFFG\n",
            "  (Down)\n",
            "SFFF\n",
            "FHFH\n",
            "F\u001b[41mF\u001b[0mFH\n",
            "HFFG\n",
            "  (Down)\n",
            "SFFF\n",
            "FHFH\n",
            "FF\u001b[41mF\u001b[0mH\n",
            "HFFG\n",
            "  (Down)\n",
            "SFFF\n",
            "FHFH\n",
            "FFFH\n",
            "HF\u001b[41mF\u001b[0mG\n",
            "  (Down)\n",
            "SFFF\n",
            "FHFH\n",
            "FFFH\n",
            "H\u001b[41mF\u001b[0mFG\n",
            "  (Right)\n",
            "SFFF\n",
            "FHFH\n",
            "F\u001b[41mF\u001b[0mFH\n",
            "HFFG\n",
            "  (Down)\n",
            "SFFF\n",
            "FHFH\n",
            "\u001b[41mF\u001b[0mFFH\n",
            "HFFG\n",
            "  (Down)\n",
            "SFFF\n",
            "FHFH\n",
            "F\u001b[41mF\u001b[0mFH\n",
            "HFFG\n",
            "  (Down)\n",
            "SFFF\n",
            "FHFH\n",
            "\u001b[41mF\u001b[0mFFH\n",
            "HFFG\n",
            "  (Down)\n",
            "SFFF\n",
            "FHFH\n",
            "F\u001b[41mF\u001b[0mFH\n",
            "HFFG\n",
            "  (Down)\n",
            "SFFF\n",
            "FHFH\n",
            "\u001b[41mF\u001b[0mFFH\n",
            "HFFG\n",
            "  (Down)\n",
            "SFFF\n",
            "FHFH\n",
            "FFFH\n",
            "\u001b[41mH\u001b[0mFFG\n",
            "Problem not solved\n"
          ]
        }
      ]
    },
    {
      "cell_type": "code",
      "source": [
        "done = False\n",
        "s = env.reset()\n",
        "env.render()\n",
        "i=0\n",
        "while not done:\n",
        "    # pick an action\n",
        "    a = np.argmax(Q2[s])\n",
        "    # get feedback from the environment\n",
        "    s_, _, done, _ = env.step(a)\n",
        "    # show the environment\n",
        "    env.render()\n",
        "    s = s_\n",
        "    i=i+1\n",
        "if s==15:\n",
        "  print(\"Number of steps after which problem was solved:\", i)\n",
        "else:\n",
        "  print(\"Problem not solved\")"
      ],
      "metadata": {
        "colab": {
          "base_uri": "https://localhost:8080/"
        },
        "id": "dGBpq00Q2yox",
        "outputId": "60b117b4-6ff1-4ab7-eacf-12c0d0af7f17"
      },
      "execution_count": 432,
      "outputs": [
        {
          "output_type": "stream",
          "name": "stdout",
          "text": [
            "\n",
            "\u001b[41mS\u001b[0mFFF\n",
            "FHFH\n",
            "FFFH\n",
            "HFFG\n",
            "  (Right)\n",
            "SFFF\n",
            "\u001b[41mF\u001b[0mHFH\n",
            "FFFH\n",
            "HFFG\n",
            "  (Left)\n",
            "SFFF\n",
            "FHFH\n",
            "\u001b[41mF\u001b[0mFFH\n",
            "HFFG\n",
            "  (Up)\n",
            "SFFF\n",
            "\u001b[41mF\u001b[0mHFH\n",
            "FFFH\n",
            "HFFG\n",
            "  (Left)\n",
            "SFFF\n",
            "\u001b[41mF\u001b[0mHFH\n",
            "FFFH\n",
            "HFFG\n",
            "  (Left)\n",
            "SFFF\n",
            "FHFH\n",
            "\u001b[41mF\u001b[0mFFH\n",
            "HFFG\n",
            "  (Up)\n",
            "SFFF\n",
            "\u001b[41mF\u001b[0mHFH\n",
            "FFFH\n",
            "HFFG\n",
            "  (Left)\n",
            "\u001b[41mS\u001b[0mFFF\n",
            "FHFH\n",
            "FFFH\n",
            "HFFG\n",
            "  (Right)\n",
            "S\u001b[41mF\u001b[0mFF\n",
            "FHFH\n",
            "FFFH\n",
            "HFFG\n",
            "  (Up)\n",
            "\u001b[41mS\u001b[0mFFF\n",
            "FHFH\n",
            "FFFH\n",
            "HFFG\n",
            "  (Right)\n",
            "S\u001b[41mF\u001b[0mFF\n",
            "FHFH\n",
            "FFFH\n",
            "HFFG\n",
            "  (Up)\n",
            "\u001b[41mS\u001b[0mFFF\n",
            "FHFH\n",
            "FFFH\n",
            "HFFG\n",
            "  (Right)\n",
            "S\u001b[41mF\u001b[0mFF\n",
            "FHFH\n",
            "FFFH\n",
            "HFFG\n",
            "  (Up)\n",
            "S\u001b[41mF\u001b[0mFF\n",
            "FHFH\n",
            "FFFH\n",
            "HFFG\n",
            "  (Up)\n",
            "SF\u001b[41mF\u001b[0mF\n",
            "FHFH\n",
            "FFFH\n",
            "HFFG\n",
            "  (Up)\n",
            "SFF\u001b[41mF\u001b[0m\n",
            "FHFH\n",
            "FFFH\n",
            "HFFG\n",
            "  (Up)\n",
            "SF\u001b[41mF\u001b[0mF\n",
            "FHFH\n",
            "FFFH\n",
            "HFFG\n",
            "  (Up)\n",
            "S\u001b[41mF\u001b[0mFF\n",
            "FHFH\n",
            "FFFH\n",
            "HFFG\n",
            "  (Up)\n",
            "S\u001b[41mF\u001b[0mFF\n",
            "FHFH\n",
            "FFFH\n",
            "HFFG\n",
            "  (Up)\n",
            "\u001b[41mS\u001b[0mFFF\n",
            "FHFH\n",
            "FFFH\n",
            "HFFG\n",
            "  (Right)\n",
            "S\u001b[41mF\u001b[0mFF\n",
            "FHFH\n",
            "FFFH\n",
            "HFFG\n",
            "  (Up)\n",
            "\u001b[41mS\u001b[0mFFF\n",
            "FHFH\n",
            "FFFH\n",
            "HFFG\n",
            "  (Right)\n",
            "S\u001b[41mF\u001b[0mFF\n",
            "FHFH\n",
            "FFFH\n",
            "HFFG\n",
            "  (Up)\n",
            "S\u001b[41mF\u001b[0mFF\n",
            "FHFH\n",
            "FFFH\n",
            "HFFG\n",
            "  (Up)\n",
            "S\u001b[41mF\u001b[0mFF\n",
            "FHFH\n",
            "FFFH\n",
            "HFFG\n",
            "  (Up)\n",
            "S\u001b[41mF\u001b[0mFF\n",
            "FHFH\n",
            "FFFH\n",
            "HFFG\n",
            "  (Up)\n",
            "S\u001b[41mF\u001b[0mFF\n",
            "FHFH\n",
            "FFFH\n",
            "HFFG\n",
            "  (Up)\n",
            "\u001b[41mS\u001b[0mFFF\n",
            "FHFH\n",
            "FFFH\n",
            "HFFG\n",
            "  (Right)\n",
            "SFFF\n",
            "\u001b[41mF\u001b[0mHFH\n",
            "FFFH\n",
            "HFFG\n",
            "  (Left)\n",
            "SFFF\n",
            "\u001b[41mF\u001b[0mHFH\n",
            "FFFH\n",
            "HFFG\n",
            "  (Left)\n",
            "SFFF\n",
            "\u001b[41mF\u001b[0mHFH\n",
            "FFFH\n",
            "HFFG\n",
            "  (Left)\n",
            "SFFF\n",
            "\u001b[41mF\u001b[0mHFH\n",
            "FFFH\n",
            "HFFG\n",
            "  (Left)\n",
            "SFFF\n",
            "FHFH\n",
            "\u001b[41mF\u001b[0mFFH\n",
            "HFFG\n",
            "  (Up)\n",
            "SFFF\n",
            "\u001b[41mF\u001b[0mHFH\n",
            "FFFH\n",
            "HFFG\n",
            "  (Left)\n",
            "SFFF\n",
            "FHFH\n",
            "\u001b[41mF\u001b[0mFFH\n",
            "HFFG\n",
            "  (Up)\n",
            "SFFF\n",
            "FHFH\n",
            "F\u001b[41mF\u001b[0mFH\n",
            "HFFG\n",
            "  (Down)\n",
            "SFFF\n",
            "FHFH\n",
            "FF\u001b[41mF\u001b[0mH\n",
            "HFFG\n",
            "  (Left)\n",
            "SFFF\n",
            "FHFH\n",
            "F\u001b[41mF\u001b[0mFH\n",
            "HFFG\n",
            "  (Down)\n",
            "SFFF\n",
            "FHFH\n",
            "FFFH\n",
            "H\u001b[41mF\u001b[0mFG\n",
            "  (Right)\n",
            "SFFF\n",
            "FHFH\n",
            "FFFH\n",
            "H\u001b[41mF\u001b[0mFG\n",
            "  (Right)\n",
            "SFFF\n",
            "FHFH\n",
            "FFFH\n",
            "H\u001b[41mF\u001b[0mFG\n",
            "  (Right)\n",
            "SFFF\n",
            "FHFH\n",
            "FFFH\n",
            "H\u001b[41mF\u001b[0mFG\n",
            "  (Right)\n",
            "SFFF\n",
            "FHFH\n",
            "F\u001b[41mF\u001b[0mFH\n",
            "HFFG\n",
            "  (Down)\n",
            "SFFF\n",
            "FHFH\n",
            "FFFH\n",
            "H\u001b[41mF\u001b[0mFG\n",
            "  (Right)\n",
            "SFFF\n",
            "FHFH\n",
            "FFFH\n",
            "HF\u001b[41mF\u001b[0mG\n",
            "  (Up)\n",
            "SFFF\n",
            "FHFH\n",
            "FFFH\n",
            "HFF\u001b[41mG\u001b[0m\n",
            "Number of steps after which problem was solved: 45\n"
          ]
        }
      ]
    },
    {
      "cell_type": "code",
      "source": [
        ""
      ],
      "metadata": {
        "id": "IRROok5FnMbm"
      },
      "execution_count": null,
      "outputs": []
    }
  ]
}
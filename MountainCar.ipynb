{
  "nbformat": 4,
  "nbformat_minor": 0,
  "metadata": {
    "colab": {
      "name": "MountainCar.ipynb",
      "provenance": []
    },
    "kernelspec": {
      "name": "python3",
      "display_name": "Python 3"
    },
    "language_info": {
      "name": "python"
    },
    "accelerator": "GPU"
  },
  "cells": [
    {
      "cell_type": "code",
      "execution_count": 2,
      "metadata": {
        "id": "dMUP2G_iKrjG"
      },
      "outputs": [],
      "source": [
        "\n",
        "import gym\n",
        "import matplotlib.pyplot as plt\n",
        "import numpy as np\n",
        "from gym import wrappers\n",
        "import pickle\n",
        "\n",
        "pos_space = np.linspace(-1.2, 0.6, 12)\n",
        "vel_space = np.linspace(-0.07, 0.07, 20)\n",
        "\n",
        "def get_state(observation):\n",
        "    pos, vel =  observation\n",
        "    pos_bin = int(np.digitize(pos, pos_space))\n",
        "    vel_bin = int(np.digitize(vel, vel_space))\n",
        "\n",
        "    return (pos_bin, vel_bin)\n",
        "\n",
        "def max_action(Q, state, actions=[0, 1, 2]):\n",
        "    values = np.array([Q[state,a] for a in actions])\n",
        "    action = np.argmax(values)\n",
        "\n",
        "    return action\n"
      ]
    },
    {
      "cell_type": "code",
      "source": [
        "env = gym.make('MountainCar-v0')\n",
        "env._max_episode_steps = 1000\n",
        "n_games = 10000\n",
        "alpha = 0.1\n",
        "gamma = 0.99\n",
        "eps = 1.0\n",
        "\n",
        "action_space = [0, 1, 2]\n",
        "\n",
        "states = []\n",
        "for pos in range(21):\n",
        "    for vel in range(21):\n",
        "        states.append((pos, vel))\n",
        "\n",
        "Q = {}\n",
        "for state in states:\n",
        "    for action in action_space:\n",
        "        Q[state, action] = 0\n",
        "\n",
        "\n",
        "score = 0\n",
        "total_rewards = np.zeros(n_games)\n",
        "for i in range(n_games):\n",
        "    done = False\n",
        "    obs = env.reset()\n",
        "    state = get_state(obs)\n",
        "    if i % 100 == 0 and i > 0:\n",
        "        print('episode ', i, 'score ', score, 'epsilon %.3f' % eps)\n",
        "    score = 0\n",
        "    while not done:\n",
        "        action = np.random.choice([0,1,2]) if np.random.random() < eps else max_action(Q, state)\n",
        "        obs_, reward, done, info = env.step(action)\n",
        "        state_ = get_state(obs_)\n",
        "        score += reward\n",
        "        action_ = max_action(Q, state_)\n",
        "        Q[state, action] = Q[state, action] + alpha*(reward + gamma*Q[state_, action_] - Q[state, action])\n",
        "        state = state_\n",
        "    total_rewards[i] = score\n",
        "    eps = eps - 2/n_games if eps > 0.01 else 0.01\n",
        "\n"
      ],
      "metadata": {
        "colab": {
          "base_uri": "https://localhost:8080/"
        },
        "id": "n_T4yff1NF3N",
        "outputId": "53704cf5-ba49-45ef-af02-64cbefb15783"
      },
      "execution_count": 3,
      "outputs": [
        {
          "output_type": "stream",
          "name": "stdout",
          "text": [
            "episode  100 score  -1000.0 epsilon 0.980\n",
            "episode  200 score  -1000.0 epsilon 0.960\n",
            "episode  300 score  -1000.0 epsilon 0.940\n",
            "episode  400 score  -1000.0 epsilon 0.920\n",
            "episode  500 score  -1000.0 epsilon 0.900\n",
            "episode  600 score  -1000.0 epsilon 0.880\n",
            "episode  700 score  -1000.0 epsilon 0.860\n",
            "episode  800 score  -1000.0 epsilon 0.840\n",
            "episode  900 score  -1000.0 epsilon 0.820\n",
            "episode  1000 score  -855.0 epsilon 0.800\n",
            "episode  1100 score  -1000.0 epsilon 0.780\n",
            "episode  1200 score  -1000.0 epsilon 0.760\n",
            "episode  1300 score  -570.0 epsilon 0.740\n",
            "episode  1400 score  -608.0 epsilon 0.720\n",
            "episode  1500 score  -697.0 epsilon 0.700\n",
            "episode  1600 score  -702.0 epsilon 0.680\n",
            "episode  1700 score  -647.0 epsilon 0.660\n",
            "episode  1800 score  -853.0 epsilon 0.640\n",
            "episode  1900 score  -347.0 epsilon 0.620\n",
            "episode  2000 score  -531.0 epsilon 0.600\n",
            "episode  2100 score  -403.0 epsilon 0.580\n",
            "episode  2200 score  -431.0 epsilon 0.560\n",
            "episode  2300 score  -391.0 epsilon 0.540\n",
            "episode  2400 score  -388.0 epsilon 0.520\n",
            "episode  2500 score  -410.0 epsilon 0.500\n",
            "episode  2600 score  -249.0 epsilon 0.480\n",
            "episode  2700 score  -273.0 epsilon 0.460\n",
            "episode  2800 score  -294.0 epsilon 0.440\n",
            "episode  2900 score  -242.0 epsilon 0.420\n",
            "episode  3000 score  -210.0 epsilon 0.400\n",
            "episode  3100 score  -234.0 epsilon 0.380\n",
            "episode  3200 score  -267.0 epsilon 0.360\n",
            "episode  3300 score  -427.0 epsilon 0.340\n",
            "episode  3400 score  -242.0 epsilon 0.320\n",
            "episode  3500 score  -218.0 epsilon 0.300\n",
            "episode  3600 score  -175.0 epsilon 0.280\n",
            "episode  3700 score  -230.0 epsilon 0.260\n",
            "episode  3800 score  -306.0 epsilon 0.240\n",
            "episode  3900 score  -175.0 epsilon 0.220\n",
            "episode  4000 score  -154.0 epsilon 0.200\n",
            "episode  4100 score  -230.0 epsilon 0.180\n",
            "episode  4200 score  -152.0 epsilon 0.160\n",
            "episode  4300 score  -968.0 epsilon 0.140\n",
            "episode  4400 score  -149.0 epsilon 0.120\n",
            "episode  4500 score  -250.0 epsilon 0.100\n",
            "episode  4600 score  -163.0 epsilon 0.080\n",
            "episode  4700 score  -221.0 epsilon 0.060\n",
            "episode  4800 score  -160.0 epsilon 0.040\n",
            "episode  4900 score  -153.0 epsilon 0.020\n",
            "episode  5000 score  -146.0 epsilon 0.010\n",
            "episode  5100 score  -157.0 epsilon 0.010\n",
            "episode  5200 score  -153.0 epsilon 0.010\n",
            "episode  5300 score  -146.0 epsilon 0.010\n",
            "episode  5400 score  -190.0 epsilon 0.010\n",
            "episode  5500 score  -194.0 epsilon 0.010\n",
            "episode  5600 score  -1000.0 epsilon 0.010\n",
            "episode  5700 score  -120.0 epsilon 0.010\n",
            "episode  5800 score  -152.0 epsilon 0.010\n",
            "episode  5900 score  -123.0 epsilon 0.010\n",
            "episode  6000 score  -169.0 epsilon 0.010\n",
            "episode  6100 score  -158.0 epsilon 0.010\n",
            "episode  6200 score  -155.0 epsilon 0.010\n",
            "episode  6300 score  -139.0 epsilon 0.010\n",
            "episode  6400 score  -219.0 epsilon 0.010\n",
            "episode  6500 score  -182.0 epsilon 0.010\n",
            "episode  6600 score  -299.0 epsilon 0.010\n",
            "episode  6700 score  -139.0 epsilon 0.010\n",
            "episode  6800 score  -150.0 epsilon 0.010\n",
            "episode  6900 score  -123.0 epsilon 0.010\n",
            "episode  7000 score  -207.0 epsilon 0.010\n",
            "episode  7100 score  -192.0 epsilon 0.010\n",
            "episode  7200 score  -224.0 epsilon 0.010\n",
            "episode  7300 score  -212.0 epsilon 0.010\n",
            "episode  7400 score  -1000.0 epsilon 0.010\n",
            "episode  7500 score  -197.0 epsilon 0.010\n",
            "episode  7600 score  -165.0 epsilon 0.010\n",
            "episode  7700 score  -239.0 epsilon 0.010\n",
            "episode  7800 score  -112.0 epsilon 0.010\n",
            "episode  7900 score  -116.0 epsilon 0.010\n",
            "episode  8000 score  -165.0 epsilon 0.010\n",
            "episode  8100 score  -160.0 epsilon 0.010\n",
            "episode  8200 score  -135.0 epsilon 0.010\n",
            "episode  8300 score  -212.0 epsilon 0.010\n",
            "episode  8400 score  -190.0 epsilon 0.010\n",
            "episode  8500 score  -150.0 epsilon 0.010\n",
            "episode  8600 score  -192.0 epsilon 0.010\n",
            "episode  8700 score  -201.0 epsilon 0.010\n",
            "episode  8800 score  -186.0 epsilon 0.010\n",
            "episode  8900 score  -154.0 epsilon 0.010\n",
            "episode  9000 score  -366.0 epsilon 0.010\n",
            "episode  9100 score  -301.0 epsilon 0.010\n",
            "episode  9200 score  -185.0 epsilon 0.010\n",
            "episode  9300 score  -151.0 epsilon 0.010\n",
            "episode  9400 score  -162.0 epsilon 0.010\n",
            "episode  9500 score  -184.0 epsilon 0.010\n",
            "episode  9600 score  -155.0 epsilon 0.010\n",
            "episode  9700 score  -157.0 epsilon 0.010\n",
            "episode  9800 score  -151.0 epsilon 0.010\n",
            "episode  9900 score  -223.0 epsilon 0.010\n"
          ]
        }
      ]
    },
    {
      "cell_type": "code",
      "source": [
        "mean_rewards = np.zeros(n_games)\n",
        "for t in range(n_games):\n",
        "    mean_rewards[t] = np.mean(total_rewards[max(0, t-50):(t+1)])\n",
        "plt.plot(mean_rewards)"
      ],
      "metadata": {
        "colab": {
          "base_uri": "https://localhost:8080/",
          "height": 265
        },
        "id": "Dpzydc1dOvs9",
        "outputId": "42e4f0c6-eec6-4f72-bc23-fedd52c3782f"
      },
      "execution_count": 4,
      "outputs": [
        {
          "output_type": "display_data",
          "data": {
            "image/png": "[encoded data removed]",
            "text/plain": [
              "<Figure size 432x288 with 1 Axes>"
            ]
          },
          "metadata": {
            "needs_background": "light"
          }
        }
      ]
    }
  ]
}